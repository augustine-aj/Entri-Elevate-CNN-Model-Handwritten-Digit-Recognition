{
 "cells": [
  {
   "cell_type": "markdown",
   "id": "3ec19be3-d596-44d9-ab13-155a96a92946",
   "metadata": {},
   "source": [
    "# Handwritten Digit Recognition"
   ]
  },
  {
   "cell_type": "markdown",
   "id": "6c8a2d89-b82e-4516-9163-919567168d07",
   "metadata": {},
   "source": [
    "The goal of this project is to build a Convolutional Neural Network (CNN) to recognize handwritten digits from the MNIST dataset. The MNIST dataset contains 70,000 grayscale images of digits (0-9), each 28x28 pixels in size. Using TensorFlow and Keras, we will create and train a deep learning model to classify these digits accurately. The project involves data preprocessing, model building, training, and evaluation to understand CNNs and their application ."
   ]
  },
  {
   "cell_type": "markdown",
   "id": "6e1f7817-a150-42d9-8453-31b8d0e9e9ef",
   "metadata": {},
   "source": [
    "## Data collection and Preprocessing"
   ]
  },
  {
   "cell_type": "markdown",
   "id": "e93ea916-359d-44a4-84ee-e7ba65d79933",
   "metadata": {},
   "source": [
    "### Loading the MNIST Dataset"
   ]
  },
  {
   "cell_type": "code",
   "execution_count": 59,
   "id": "0cbab207-a9f0-4c21-970d-8ccc1f8c9b9a",
   "metadata": {},
   "outputs": [],
   "source": [
    "import tensorflow as tf\n",
    "from tensorflow.keras.datasets import mnist"
   ]
  },
  {
   "cell_type": "code",
   "execution_count": 60,
   "id": "d575c5e4-7670-4809-9f20-8006a4af9b9b",
   "metadata": {},
   "outputs": [],
   "source": [
    "(x_train, y_train),(x_test, y_test) = mnist.load_data()\n",
    "unique, counts = np.unique(y_train, return_counts=True)\n",
    "class_distribution = dict(zip(unique, counts))"
   ]
  },
  {
   "cell_type": "markdown",
   "id": "705b08f5-840b-4516-9b14-0f9f29344cee",
   "metadata": {},
   "source": [
    "#### Findng the Class distribution"
   ]
  },
  {
   "cell_type": "code",
   "execution_count": 61,
   "id": "129030a9-a583-4f79-b3a1-a5fa052f2046",
   "metadata": {},
   "outputs": [
    {
     "name": "stdout",
     "output_type": "stream",
     "text": [
      "Class Distribution in Training Data:\n",
      "Digit 0: 5923\n",
      "Digit 1: 6742\n",
      "Digit 2: 5958\n",
      "Digit 3: 6131\n",
      "Digit 4: 5842\n",
      "Digit 5: 5421\n",
      "Digit 6: 5918\n",
      "Digit 7: 6265\n",
      "Digit 8: 5851\n",
      "Digit 9: 5949\n"
     ]
    }
   ],
   "source": [
    "# This step is not necessory\n",
    "print(\"Class Distribution in Training Data:\")\n",
    "for digit, count in class_distribution.items():\n",
    "    print(f'Digit {digit}: {count}')"
   ]
  },
  {
   "cell_type": "markdown",
   "id": "7f2b5421-27a2-4fb6-b1e5-9c64c797e1f4",
   "metadata": {},
   "source": [
    "### Normalization"
   ]
  },
  {
   "cell_type": "code",
   "execution_count": 62,
   "id": "a907f37e-c4a7-43d5-b8f0-85e6e06991fe",
   "metadata": {},
   "outputs": [],
   "source": [
    "x_train = x_train.astype('float32') / 255.0\n",
    "x_test = x_test.astype('float32') / 255.0"
   ]
  },
  {
   "cell_type": "markdown",
   "id": "4b680911-c1b4-4450-a82d-d12eee70ed2d",
   "metadata": {},
   "source": [
    "### Reshaping the Data"
   ]
  },
  {
   "cell_type": "code",
   "execution_count": 63,
   "id": "515cffac-91d1-4af0-b75f-ee7e865c9c50",
   "metadata": {},
   "outputs": [],
   "source": [
    "x_train = x_train.reshape((x_train.shape[0], 28, 28, 1))\n",
    "x_test = x_test.reshape((x_test.shape[0], 28, 28, 1))"
   ]
  },
  {
   "cell_type": "code",
   "execution_count": 64,
   "id": "1b7a7c86-6d42-4517-8c67-13a9073d8a1b",
   "metadata": {},
   "outputs": [
    {
     "name": "stdout",
     "output_type": "stream",
     "text": [
      "(60000, 28, 28, 1)\n",
      "(60000,)\n"
     ]
    }
   ],
   "source": [
    "print(x_train.shape)  # Should print (60000, 28, 28, 1)\n",
    "print(y_train.shape)  # Should print (60000, 10)"
   ]
  },
  {
   "cell_type": "markdown",
   "id": "0b723890-e45a-4729-9319-d4a3380371d1",
   "metadata": {},
   "source": [
    "### One-Hot Encoding of Labels"
   ]
  },
  {
   "cell_type": "code",
   "execution_count": 65,
   "id": "e92c8412-9277-4714-bb95-64c63b1ae110",
   "metadata": {},
   "outputs": [],
   "source": [
    "from tensorflow.keras.utils import to_categorical\n",
    "\n",
    "y_train = to_categorical(y_train, num_classes=10)\n",
    "y_test = to_categorical(y_test, num_classes=10)"
   ]
  },
  {
   "cell_type": "markdown",
   "id": "4c372d7d-d84f-4082-9fc0-0bc6063d3652",
   "metadata": {},
   "source": [
    "## Building the CNN Model"
   ]
  },
  {
   "cell_type": "code",
   "execution_count": 66,
   "id": "bb81649e-f6a6-4531-a5d2-773101bcb42b",
   "metadata": {},
   "outputs": [],
   "source": [
    "from tensorflow.keras.models import Sequential\n",
    "from tensorflow.keras.layers import Conv2D, MaxPooling2D, Flatten, Dense\n",
    "\n",
    "# Create the CNN model\n",
    "model = Sequential()\n",
    "model.add(Conv2D(32, kernel_size=(3, 3), activation='relu', input_shape=(28, 28, 1)))\n",
    "model.add(MaxPooling2D(pool_size=(2, 2)))\n",
    "model.add(Conv2D(64, kernel_size=(3, 3), activation='relu'))\n",
    "model.add(MaxPooling2D(pool_size=(2, 2)))\n",
    "model.add(Flatten())\n",
    "model.add(Dense(128, activation='relu'))\n",
    "model.add(Dense(10, activation='softmax'))  # Output layer with 10 neurons"
   ]
  },
  {
   "cell_type": "markdown",
   "id": "29f62d16-1278-49c3-97dd-58863e7783b5",
   "metadata": {},
   "source": [
    "### Compiling the Model"
   ]
  },
  {
   "cell_type": "code",
   "execution_count": 67,
   "id": "9cb4a6e1-e35e-44b1-92db-f28bb11ae2d7",
   "metadata": {},
   "outputs": [],
   "source": [
    "model.compile(optimizer='adam',\n",
    "              loss='categorical_crossentropy',\n",
    "              metrics=['accuracy'])"
   ]
  },
  {
   "cell_type": "markdown",
   "id": "1693705f-d7f5-42d3-8394-65032478d180",
   "metadata": {},
   "source": [
    "## Training the Model"
   ]
  },
  {
   "cell_type": "code",
   "execution_count": 68,
   "id": "2ce3b9e8-c929-41fd-a141-005ae3aa28d8",
   "metadata": {},
   "outputs": [
    {
     "name": "stdout",
     "output_type": "stream",
     "text": [
      "Epoch 1/10\n",
      "\u001b[1m1600/1600\u001b[0m \u001b[32m━━━━━━━━━━━━━━━━━━━━\u001b[0m\u001b[37m\u001b[0m \u001b[1m27s\u001b[0m 15ms/step - accuracy: 0.8941 - loss: 0.3485 - val_accuracy: 0.9817 - val_loss: 0.0609\n",
      "Epoch 2/10\n",
      "\u001b[1m1600/1600\u001b[0m \u001b[32m━━━━━━━━━━━━━━━━━━━━\u001b[0m\u001b[37m\u001b[0m \u001b[1m24s\u001b[0m 15ms/step - accuracy: 0.9856 - loss: 0.0475 - val_accuracy: 0.9856 - val_loss: 0.0505\n",
      "Epoch 3/10\n",
      "\u001b[1m1600/1600\u001b[0m \u001b[32m━━━━━━━━━━━━━━━━━━━━\u001b[0m\u001b[37m\u001b[0m \u001b[1m23s\u001b[0m 14ms/step - accuracy: 0.9889 - loss: 0.0322 - val_accuracy: 0.9872 - val_loss: 0.0462\n",
      "Epoch 4/10\n",
      "\u001b[1m1600/1600\u001b[0m \u001b[32m━━━━━━━━━━━━━━━━━━━━\u001b[0m\u001b[37m\u001b[0m \u001b[1m23s\u001b[0m 14ms/step - accuracy: 0.9929 - loss: 0.0213 - val_accuracy: 0.9863 - val_loss: 0.0531\n",
      "Epoch 5/10\n",
      "\u001b[1m1600/1600\u001b[0m \u001b[32m━━━━━━━━━━━━━━━━━━━━\u001b[0m\u001b[37m\u001b[0m \u001b[1m23s\u001b[0m 14ms/step - accuracy: 0.9949 - loss: 0.0162 - val_accuracy: 0.9887 - val_loss: 0.0440\n",
      "Epoch 6/10\n",
      "\u001b[1m1600/1600\u001b[0m \u001b[32m━━━━━━━━━━━━━━━━━━━━\u001b[0m\u001b[37m\u001b[0m \u001b[1m23s\u001b[0m 14ms/step - accuracy: 0.9965 - loss: 0.0115 - val_accuracy: 0.9877 - val_loss: 0.0444\n",
      "Epoch 7/10\n",
      "\u001b[1m1600/1600\u001b[0m \u001b[32m━━━━━━━━━━━━━━━━━━━━\u001b[0m\u001b[37m\u001b[0m \u001b[1m23s\u001b[0m 14ms/step - accuracy: 0.9974 - loss: 0.0087 - val_accuracy: 0.9882 - val_loss: 0.0439\n",
      "Epoch 8/10\n",
      "\u001b[1m1600/1600\u001b[0m \u001b[32m━━━━━━━━━━━━━━━━━━━━\u001b[0m\u001b[37m\u001b[0m \u001b[1m23s\u001b[0m 14ms/step - accuracy: 0.9980 - loss: 0.0067 - val_accuracy: 0.9904 - val_loss: 0.0393\n",
      "Epoch 9/10\n",
      "\u001b[1m1600/1600\u001b[0m \u001b[32m━━━━━━━━━━━━━━━━━━━━\u001b[0m\u001b[37m\u001b[0m \u001b[1m23s\u001b[0m 14ms/step - accuracy: 0.9984 - loss: 0.0050 - val_accuracy: 0.9881 - val_loss: 0.0460\n",
      "Epoch 10/10\n",
      "\u001b[1m1600/1600\u001b[0m \u001b[32m━━━━━━━━━━━━━━━━━━━━\u001b[0m\u001b[37m\u001b[0m \u001b[1m22s\u001b[0m 14ms/step - accuracy: 0.9975 - loss: 0.0076 - val_accuracy: 0.9892 - val_loss: 0.0460\n"
     ]
    }
   ],
   "source": [
    "# Train the model\n",
    "trained_model = model.fit(x_train, y_train, \n",
    "                    validation_split=0.2, \n",
    "                    epochs=10, \n",
    "                    batch_size=30)"
   ]
  },
  {
   "cell_type": "markdown",
   "id": "4093393f-040b-4c0f-b7d6-c24fb104a193",
   "metadata": {},
   "source": [
    "## Evaluating the Model"
   ]
  },
  {
   "cell_type": "code",
   "execution_count": 69,
   "id": "e36e4a97-8144-4a03-9cce-21007ea507c7",
   "metadata": {},
   "outputs": [
    {
     "name": "stdout",
     "output_type": "stream",
     "text": [
      "\u001b[1m313/313\u001b[0m \u001b[32m━━━━━━━━━━━━━━━━━━━━\u001b[0m\u001b[37m\u001b[0m \u001b[1m3s\u001b[0m 7ms/step - accuracy: 0.9891 - loss: 0.0474\n",
      "Test accuracy: 0.9905\n"
     ]
    }
   ],
   "source": [
    "# Evaluate the model on test data\n",
    "test_loss, test_accuracy = model.evaluate(x_test, y_test)\n",
    "print(f'Test accuracy: {test_accuracy:.4f}')"
   ]
  },
  {
   "cell_type": "markdown",
   "id": "f383d7fc-69e9-4272-94e5-78079e665aaa",
   "metadata": {},
   "source": [
    "### Plotting Training and Validation Metrics"
   ]
  },
  {
   "cell_type": "code",
   "execution_count": 71,
   "id": "9753f38b-b2bd-41d7-a7e7-bb495735f9f4",
   "metadata": {},
   "outputs": [
    {
     "data": {
      "text/plain": [
       "<matplotlib.legend.Legend at 0x20c83b31f50>"
      ]
     },
     "execution_count": 71,
     "metadata": {},
     "output_type": "execute_result"
    },
    {
     "data": {
      "image/png": "[encoded data removed]",
      "text/plain": [
       "<Figure size 1200x500 with 1 Axes>"
      ]
     },
     "metadata": {},
     "output_type": "display_data"
    }
   ],
   "source": [
    "import matplotlib.pyplot as plt\n",
    "\n",
    "# Plot training & validation accuracy values\n",
    "plt.figure(figsize=(12, 5))\n",
    "plt.subplot(1, 2, 1)\n",
    "plt.plot(trained_model.history['accuracy'], label='Training Accuracy')\n",
    "plt.plot(trained_model.history['val_accuracy'], label='Validation Accuracy')\n",
    "plt.title('Model Accuracy')\n",
    "plt.ylabel('Accuracy')\n",
    "plt.xlabel('Epoch')\n",
    "plt.legend()"
   ]
  },
  {
   "cell_type": "code",
   "execution_count": 72,
   "id": "4ee14db4-3759-4900-844e-7f06a219decd",
   "metadata": {},
   "outputs": [
    {
     "data": {
      "image/png": "[encoded data removed]",
      "text/plain": [
       "<Figure size 640x480 with 1 Axes>"
      ]
     },
     "metadata": {},
     "output_type": "display_data"
    }
   ],
   "source": [
    "# Plot training & validation loss values\n",
    "plt.subplot(1, 2, 2)\n",
    "plt.plot(trained_model.history['loss'], label='Training Loss')\n",
    "plt.plot(trained_model.history['val_loss'], label='Validation Loss')\n",
    "plt.title('Model Loss')\n",
    "plt.ylabel('Loss')\n",
    "plt.xlabel('Epoch')\n",
    "plt.legend()\n",
    "\n",
    "plt.show()"
   ]
  },
  {
   "cell_type": "markdown",
   "id": "006f9fea-cfb3-42d6-bbdb-cf8496f3ff77",
   "metadata": {},
   "source": [
    "## Loading and Preprocessing a New Image"
   ]
  },
  {
   "cell_type": "code",
   "execution_count": 74,
   "id": "da4c1098-0030-4148-b8ec-4213330670af",
   "metadata": {},
   "outputs": [
    {
     "data": {
      "image/png": "[encoded data removed]",
      "text/plain": [
       "<Figure size 640x480 with 1 Axes>"
      ]
     },
     "metadata": {},
     "output_type": "display_data"
    },
    {
     "name": "stdout",
     "output_type": "stream",
     "text": [
      "\u001b[1m1/1\u001b[0m \u001b[32m━━━━━━━━━━━━━━━━━━━━\u001b[0m\u001b[37m\u001b[0m \u001b[1m0s\u001b[0m 58ms/step\n"
     ]
    }
   ],
   "source": [
    "import numpy as np\n",
    "from PIL import Image\n",
    "import tensorflow as tf\n",
    "import matplotlib.pyplot as plt\n",
    "\n",
    "image_path = \"D:/Linked IN posts/Handwritten-digits-from-the-MNIST-data-set-5-If-f-denotes-the-image-of-the-handwritten_Q640.jpg\"  \n",
    "image = Image.open(image_path)\n",
    "\n",
    "image = image.resize((28, 28))\n",
    "\n",
    "image = image.convert('L')  \n",
    "\n",
    "image_array = np.array(image)\n",
    "\n",
    "image_array = image_array.astype('float32') / 255.0\n",
    "\n",
    "image_array = image_array.reshape((1, 28, 28, 1))  # Shape: (1, 28, 28, 1)\n",
    "\n",
    "plt.imshow(image_array[0, :, :, 0], cmap='gray')\n",
    "plt.title('Input Image')\n",
    "plt.axis('off')\n",
    "plt.show()\n",
    "\n",
    "predicted = model.predict(image_array)\n",
    "predicted_class = np.argmax(predicted)"
   ]
  },
  {
   "cell_type": "code",
   "execution_count": null,
   "id": "f7ffc1cb-2224-4b8c-9caf-818bdcff1d62",
   "metadata": {},
   "outputs": [],
   "source": [
    "predicted = model.predict(image_array)\n",
    "predicted_class = np.argmax(predicted)\n",
    "\n",
    "# Print the predicted probabilities and the predicted class\n",
    "print(\"Predicted probabilities:\", predicted)\n",
    "print(f'The predicted digit is: {predicted_class}')"
   ]
  }
 ],
 "metadata": {
  "kernelspec": {
   "display_name": "Python 3 (ipykernel)",
   "language": "python",
   "name": "python3"
  },
  "language_info": {
   "codemirror_mode": {
    "name": "ipython",
    "version": 3
   },
   "file_extension": ".py",
   "mimetype": "text/x-python",
   "name": "python",
   "nbconvert_exporter": "python",
   "pygments_lexer": "ipython3",
   "version": "3.11.5"
  }
 },
 "nbformat": 4,
 "nbformat_minor": 5
}
